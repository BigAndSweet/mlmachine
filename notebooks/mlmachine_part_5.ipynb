{
 "cells": [
  {
   "cell_type": "code",
   "execution_count": null,
   "metadata": {
    "ExecuteTime": {
     "end_time": "2020-03-24T03:33:14.711904Z",
     "start_time": "2020-03-24T03:33:12.972635Z"
    }
   },
   "outputs": [],
   "source": [
    "# standard libary and settings\n",
    "import copy\n",
    "import os\n",
    "import sys\n",
    "import importlib\n",
    "import itertools\n",
    "from functools import reduce\n",
    "import time\n",
    "rundate = time.strftime(\"%Y%m%d\")\n",
    "\n",
    "import warnings\n",
    "warnings.simplefilter(\"ignore\")\n",
    "from IPython.core.display import display, HTML\n",
    "display(HTML(\"<style>.container { width:95% !important; }</style>\"))\n",
    "\n",
    "# data extensions and settings\n",
    "import numpy as np\n",
    "np.set_printoptions(threshold=np.inf, suppress=True)\n",
    "\n",
    "import pandas as pd\n",
    "pd.set_option(\"display.max_rows\", 500)\n",
    "pd.set_option(\"display.max_columns\", 500)\n",
    "pd.options.display.float_format = \"{:,.6f}\".format\n",
    "\n",
    "# modeling extensions\n",
    "from sklearn.base import TransformerMixin, BaseEstimator\n",
    "from sklearn.ensemble import (\n",
    "    RandomForestClassifier,\n",
    "    GradientBoostingClassifier,\n",
    "    AdaBoostClassifier,\n",
    "    ExtraTreesClassifier,\n",
    "    IsolationForest,\n",
    ")\n",
    "from sklearn.impute import SimpleImputer\n",
    "from sklearn.linear_model import (\n",
    "    Lasso,\n",
    "    Ridge,\n",
    "    ElasticNet,\n",
    "    LinearRegression,\n",
    "    LogisticRegression,\n",
    "    SGDRegressor,\n",
    ")\n",
    "from sklearn.model_selection import (\n",
    "    KFold,\n",
    "    train_test_split,\n",
    "    GridSearchCV,\n",
    "    StratifiedKFold,\n",
    "    cross_val_score,\n",
    "    RandomizedSearchCV,\n",
    ")\n",
    "from sklearn.neighbors import KNeighborsClassifier, KNeighborsRegressor\n",
    "from sklearn.pipeline import make_pipeline, Pipeline, FeatureUnion\n",
    "from sklearn.preprocessing import (\n",
    "    StandardScaler,\n",
    "    RobustScaler,\n",
    "    PolynomialFeatures,\n",
    "    OrdinalEncoder,\n",
    "    LabelEncoder,\n",
    "    OneHotEncoder,\n",
    "    KBinsDiscretizer,\n",
    "    QuantileTransformer,\n",
    "    PowerTransformer,\n",
    "    MinMaxScaler,\n",
    ")\n",
    "from sklearn.svm import SVC, SVR\n",
    "from category_encoders import WOEEncoder, TargetEncoder, CatBoostEncoder, BinaryEncoder, CountEncoder\n",
    "\n",
    "from lightgbm import LGBMClassifier, LGBMRegressor\n",
    "from xgboost import XGBClassifier, XGBRegressor\n",
    "\n",
    "from hyperopt import hp\n",
    "import shap\n",
    "\n",
    "shap.initjs()\n",
    "\n",
    "# visualization extensions and settings\n",
    "import seaborn as sns\n",
    "import matplotlib.pyplot as plt\n",
    "import missingno as msno\n",
    "import squarify\n",
    "\n",
    "%matplotlib inline\n",
    "\n",
    "try:\n",
    "    import asdfasd\n",
    "except ModuleNotFoundError:\n",
    "    sys.path.append(\n",
    "        \"../../../mlmachine\"\n",
    "    ) if \"../../../../mlmachine\" not in sys.path else None\n",
    "    sys.path.append(\n",
    "        \"../../../prettierplot\"\n",
    "    ) if \"../../../../prettierplot\" not in sys.path else None\n",
    "\n",
    "    import mlmachine as mlm\n",
    "    from mlmachine.data import titanic\n",
    "    from mlmachine.features.preprocessing import (\n",
    "        DataFrameSelector,\n",
    "        PandasTransformer,\n",
    "        KFoldEncoder,\n",
    "        GroupbyImputer,\n",
    "        PandasFeatureUnion,\n",
    "        DualTransformer,\n",
    "    )\n",
    "    from prettierplot.plotter import PrettierPlot\n",
    "    import prettierplot.style as style"
   ]
  },
  {
   "cell_type": "code",
   "execution_count": null,
   "metadata": {
    "ExecuteTime": {
     "end_time": "2020-03-24T03:33:18.256441Z",
     "start_time": "2020-03-24T03:33:14.712905Z"
    }
   },
   "outputs": [],
   "source": [
    "import mlmachine as mlm\n",
    "from mlmachine.data import titanic\n",
    "\n",
    "df_train, df_valid = titanic()\n",
    "\n",
    "ordinal_encodings = {\"Pclass\": [1, 2, 3]}\n",
    "\n",
    "mlmachine_titanic_train = mlm.Machine(\n",
    "    data=df_train,\n",
    "    target=\"Survived\",\n",
    "    remove_features=[\"PassengerId\",\"Ticket\",\"Name\",\"Cabin\"],\n",
    "    identify_as_continuous=[\"Age\",\"Fare\"],\n",
    "    identify_as_count=[\"Parch\",\"SibSp\"],\n",
    "    identify_as_nominal=[\"Embarked\"],\n",
    "    identify_as_ordinal=[\"Pclass\"],\n",
    "    ordinal_encodings=ordinal_encodings,\n",
    "    is_classification=True,\n",
    ")\n",
    "\n",
    "mlmachine_titanic_valid = mlm.Machine(\n",
    "    data=df_valid,\n",
    "    remove_features=[\"PassengerId\",\"Ticket\",\"Name\",\"Cabin\"],\n",
    "    identify_as_continuous=[\"Age\",\"Fare\"],\n",
    "    identify_as_count=[\"Parch\",\"SibSp\"],\n",
    "    identify_as_nominal=[\"Embarked\"],\n",
    "    identify_as_ordinal=[\"Pclass\"],\n",
    "    ordinal_encodings=ordinal_encodings,\n",
    "    is_classification=True,\n",
    ")\n",
    "\n",
    "### impute pipeline\n",
    "impute_pipe = PandasFeatureUnion([\n",
    "    (\"age\", make_pipeline(\n",
    "        DataFrameSelector(include_columns=[\"Age\",\"SibSp\"]),\n",
    "        GroupbyImputer(null_column=\"Age\", groupby_column=\"SibSp\", strategy=\"mean\")\n",
    "    )),\n",
    "    (\"fare\", make_pipeline(\n",
    "        DataFrameSelector(include_columns=[\"Fare\",\"Pclass\"]),\n",
    "        GroupbyImputer(null_column=\"Fare\", groupby_column=\"Pclass\", strategy=\"mean\")\n",
    "    )),\n",
    "    (\"embarked\", make_pipeline(\n",
    "        DataFrameSelector(include_columns=[\"Embarked\"]),\n",
    "        PandasTransformer(SimpleImputer(strategy=\"most_frequent\"))\n",
    "    )),\n",
    "    (\"diff\", make_pipeline(\n",
    "        DataFrameSelector(exclude_columns=[\"Age\",\"Fare\",\"Embarked\"])\n",
    "    )),\n",
    "])\n",
    "\n",
    "mlmachine_titanic_train.data = impute_pipe.fit_transform(mlmachine_titanic_train.data)\n",
    "mlmachine_titanic_valid.data = impute_pipe.transform(mlmachine_titanic_valid.data)\n",
    "\n",
    "# transform pipe\n",
    "polynomial_pipe = PandasFeatureUnion([\n",
    "    (\"polynomial\", make_pipeline(\n",
    "        DataFrameSelector(include_mlm_dtypes=[\"continuous\"]),\n",
    "        PandasTransformer(PolynomialFeatures(degree=2, interaction_only=False, include_bias=False)),\n",
    "    )),\n",
    "    (\"diff\", make_pipeline(\n",
    "        DataFrameSelector(exclude_mlm_dtypes=[\"continuous\"]),\n",
    "    )),\n",
    "])\n",
    "\n",
    "mlmachine_titanic_train.data = polynomial_pipe.fit_transform(mlmachine_titanic_train.data)\n",
    "mlmachine_titanic_valid.data = polynomial_pipe.transform(mlmachine_titanic_valid.data)\n",
    "\n",
    "mlmachine_titanic_train.update_dtypes()\n",
    "mlmachine_titanic_valid.update_dtypes()\n",
    "\n",
    "### encode & bin pipeline\n",
    "encode_pipe = PandasFeatureUnion([\n",
    "    (\"nominal\", make_pipeline(\n",
    "        DataFrameSelector(include_columns=mlmachine_titanic_train.data.mlm_dtypes[\"nominal\"]),\n",
    "        PandasTransformer(OneHotEncoder(drop=\"first\")),\n",
    "    )),\n",
    "    (\"ordinal\", make_pipeline(\n",
    "        DataFrameSelector(include_columns=list(ordinal_encodings.keys())),\n",
    "        PandasTransformer(OrdinalEncoder(categories=list(ordinal_encodings.values()))),\n",
    "    )),\n",
    "    (\"bin\", make_pipeline(\n",
    "        DataFrameSelector(include_columns=mlmachine_titanic_train.data.mlm_dtypes[\"continuous\"]),\n",
    "        PandasTransformer(KBinsDiscretizer(encode=\"ordinal\")),\n",
    "    )),\n",
    "    (\"diff\", make_pipeline(\n",
    "        DataFrameSelector(exclude_columns=mlmachine_titanic_train.data.mlm_dtypes[\"nominal\"] + list(ordinal_encodings.keys())),\n",
    "    )),\n",
    "])\n",
    "\n",
    "mlmachine_titanic_train.data = encode_pipe.fit_transform(mlmachine_titanic_train.data)\n",
    "mlmachine_titanic_valid.data = encode_pipe.fit_transform(mlmachine_titanic_valid.data)\n",
    "\n",
    "mlmachine_titanic_train.update_dtypes()\n",
    "mlmachine_titanic_valid.update_dtypes()\n",
    "\n",
    "### impute pipeline\n",
    "target_encode_pipe = PandasFeatureUnion([\n",
    "    (\"target\", make_pipeline(\n",
    "        DataFrameSelector(include_mlm_dtypes=[\"category\"]), \n",
    "        KFoldEncoder(\n",
    "            target=mlmachine_titanic_train.target,\n",
    "            cv=KFold(n_splits=5, shuffle=True, random_state=0),\n",
    "            encoder=TargetEncoder,\n",
    "        ),\n",
    "    )),\n",
    "    (\"woe\", make_pipeline(\n",
    "        DataFrameSelector(include_mlm_dtypes=[\"category\"]),\n",
    "        KFoldEncoder(\n",
    "            target=mlmachine_titanic_train.target,\n",
    "            cv=KFold(n_splits=5, shuffle=False, random_state=0),\n",
    "            encoder=WOEEncoder,\n",
    "        ),\n",
    "    )),\n",
    "    (\"catboost\", make_pipeline(\n",
    "        DataFrameSelector(include_mlm_dtypes=[\"category\"]),\n",
    "        KFoldEncoder(\n",
    "            target=mlmachine_titanic_train.target,\n",
    "            cv=KFold(n_splits=5, shuffle=False, random_state=0),\n",
    "            encoder=CatBoostEncoder,\n",
    "        ),\n",
    "    )),\n",
    "    (\"diff\", make_pipeline(\n",
    "        DataFrameSelector(exclude_mlm_dtypes=[\"category\"]),\n",
    "    )),\n",
    "])\n",
    "\n",
    "mlmachine_titanic_train.data = target_encode_pipe.fit_transform(mlmachine_titanic_train.data)\n",
    "mlmachine_titanic_valid.data = target_encode_pipe.transform(mlmachine_titanic_valid.data)\n",
    "\n",
    "mlmachine_titanic_train.update_dtypes()\n",
    "mlmachine_titanic_valid.update_dtypes()\n",
    "\n",
    "### scale values\n",
    "scale = PandasTransformer(RobustScaler())\n",
    "\n",
    "mlmachine_titanic_train.data = scale.fit_transform(mlmachine_titanic_train.data)\n",
    "mlmachine_titanic_valid.data = scale.transform(mlmachine_titanic_valid.data)"
   ]
  },
  {
   "cell_type": "code",
   "execution_count": null,
   "metadata": {
    "ExecuteTime": {
     "end_time": "2020-03-24T03:33:18.283446Z",
     "start_time": "2020-03-24T03:33:18.257484Z"
    }
   },
   "outputs": [],
   "source": [
    "mlmachine_titanic_train.data"
   ]
  },
  {
   "cell_type": "code",
   "execution_count": null,
   "metadata": {
    "ExecuteTime": {
     "end_time": "2020-03-24T03:33:18.293447Z",
     "start_time": "2020-03-24T03:33:18.284447Z"
    }
   },
   "outputs": [],
   "source": [
    "estimators = [\n",
    "    LogisticRegression,\n",
    "    XGBClassifier,\n",
    "    RandomForestClassifier,\n",
    "    KNeighborsClassifier,\n",
    "]\n",
    "\n",
    "fs = mlmachine_titanic_train.FeatureSelector(\n",
    "    data=mlmachine_titanic_train.data,\n",
    "    target=mlmachine_titanic_train.target,\n",
    "    estimators=estimators,\n",
    ")\n",
    "# feature_selector_summary = fs.feature_selector_suite(\n",
    "#     sequential_scoring=\"accuracy\",\n",
    "#     sequential_n_folds=0,\n",
    "#     add_stats=True,\n",
    "#     n_jobs=1,\n",
    "#     save_to_csv=True,\n",
    "# )\n",
    "feature_selector_summary=pd.read_csv(\"feature_selection_summary_2003181834.csv\", index_col=0)   "
   ]
  },
  {
   "cell_type": "code",
   "execution_count": null,
   "metadata": {
    "ExecuteTime": {
     "end_time": "2020-03-24T03:33:18.306449Z",
     "start_time": "2020-03-24T03:33:18.294447Z"
    }
   },
   "outputs": [],
   "source": [
    "# # calculate cross-validation performance\n",
    "# cv_summary = fs.feature_selector_cross_val(\n",
    "#     feature_selector_summary=feature_selector_summary,\n",
    "#     estimators=estimators,\n",
    "#     scoring=[\"accuracy\"],\n",
    "#     n_folds=5,\n",
    "#     step=1,\n",
    "#     n_jobs=4,\n",
    "#     save_to_csv=True,\n",
    "# )\n",
    "cv_summary= pd.read_csv(\"cv_summary_2003181851.csv\", index_col=0)"
   ]
  },
  {
   "cell_type": "code",
   "execution_count": null,
   "metadata": {
    "ExecuteTime": {
     "end_time": "2020-03-24T03:33:18.336454Z",
     "start_time": "2020-03-24T03:33:18.307448Z"
    }
   },
   "outputs": [],
   "source": [
    "cross_val_feature_dict = fs.create_cross_val_features_dict(\n",
    "    scoring=\"accuracy_score\",\n",
    "    cv_summary=cv_summary,\n",
    "    feature_selector_summary=feature_selector_summary,\n",
    ")"
   ]
  },
  {
   "cell_type": "code",
   "execution_count": null,
   "metadata": {
    "ExecuteTime": {
     "end_time": "2020-03-24T03:33:18.472481Z",
     "start_time": "2020-03-24T03:33:18.337473Z"
    },
    "scrolled": false
   },
   "outputs": [],
   "source": [
    "# model/parameter space\n",
    "estimator_parameter_space = {\n",
    "    \"LogisticRegression\": {\n",
    "        \"C\": hp.loguniform(\"C\", np.log(0.001), np.log(0.2)),\n",
    "        \"penalty\": hp.choice(\"penalty\", [\"l2\"]),\n",
    "    },\n",
    "    \"XGBClassifier\": {\n",
    "        \"colsample_bytree\": hp.uniform(\"colsample_bytree\", 0.5, 1.0),\n",
    "        \"gamma\": hp.uniform(\"gamma\", 0.0, 10),\n",
    "        \"learning_rate\": hp.uniform(\"learning_rate\", 0.01, 0.3),\n",
    "        \"max_depth\": hp.choice(\"max_depth\", np.arange(2, 20, dtype=int)),\n",
    "        \"min_child_weight\": hp.uniform(\"min_child_weight\", 1, 20),\n",
    "        \"n_estimators\": hp.choice(\"n_estimators\", np.arange(100, 10000, 1, dtype=int)),\n",
    "        \"subsample\": hp.uniform(\"subsample\", 0.3, 1),\n",
    "    },\n",
    "    \"RandomForestClassifier\": {\n",
    "        \"bootstrap\": hp.choice(\"bootstrap\", [True, False]),\n",
    "        \"max_depth\": hp.choice(\"max_depth\", np.arange(2, 20, dtype=int)),\n",
    "        \"n_estimators\": hp.choice(\"n_estimators\", np.arange(100, 10000, 1, dtype=int)),\n",
    "        \"max_features\": hp.choice(\"max_features\", [\"auto\", \"sqrt\"]),\n",
    "        \"min_samples_split\": hp.choice(\n",
    "            \"min_samples_split\", np.arange(2, 40, dtype=int)\n",
    "        ),\n",
    "        \"min_samples_leaf\": hp.choice(\"min_samples_leaf\", np.arange(2, 40, dtype=int)),\n",
    "    },\n",
    "    \"KNeighborsClassifier\": {\n",
    "        \"algorithm\": hp.choice(\"algorithm\", [\"auto\", \"ball_tree\", \"kd_tree\", \"brute\"]),\n",
    "        \"n_neighbors\": hp.choice(\"n_neighbors\", np.arange(1, 20, dtype=int)),\n",
    "        \"weights\": hp.choice(\"weights\", [\"distance\", \"uniform\"]),\n",
    "    },\n",
    "}\n",
    "\n",
    "# # execute bayesian optimization grid search\n",
    "# mlmachine_titanic_train.exec_bayes_optim_search(\n",
    "#     estimator_parameter_space=estimator_parameter_space,\n",
    "#     data=mlmachine_titanic_train.data,\n",
    "#     target=mlmachine_titanic_train.target,\n",
    "#     columns=cross_val_feature_dict,\n",
    "#     scoring=\"accuracy\",\n",
    "#     n_folds=5,\n",
    "#     n_jobs=5,\n",
    "#     iters=200,\n",
    "#     show_progressbar=True,\n",
    "# )"
   ]
  },
  {
   "cell_type": "code",
   "execution_count": null,
   "metadata": {
    "ExecuteTime": {
     "end_time": "2020-03-24T03:33:18.499479Z",
     "start_time": "2020-03-24T03:33:18.473475Z"
    }
   },
   "outputs": [],
   "source": [
    "bayes_optim_summary = pd.read_csv(\"bayes_optimization_summary_accuracy_2003181857.csv\", na_values=\"nan\")\n",
    "bayes_optim_summary"
   ]
  },
  {
   "cell_type": "code",
   "execution_count": null,
   "metadata": {
    "ExecuteTime": {
     "end_time": "2020-03-24T03:33:18.760519Z",
     "start_time": "2020-03-24T03:33:18.501479Z"
    },
    "scrolled": false
   },
   "outputs": [],
   "source": [
    "mlmachine_titanic_train.model_loss_plot(\n",
    "    bayes_optim_summary=bayes_optim_summary,\n",
    "    estimator_class=\"XGBClassifier\",\n",
    ")"
   ]
  },
  {
   "cell_type": "code",
   "execution_count": null,
   "metadata": {
    "ExecuteTime": {
     "end_time": "2020-03-24T03:33:19.979707Z",
     "start_time": "2020-03-24T03:33:18.761520Z"
    },
    "scrolled": false
   },
   "outputs": [],
   "source": [
    "mlmachine_titanic_train.model_param_plot(\n",
    "    bayes_optim_summary=bayes_optim_summary,\n",
    "    estimator_class=\"KNeighborsClassifier\",\n",
    "    estimator_parameter_space=estimator_parameter_space,\n",
    "    n_iter=200,\n",
    ")"
   ]
  },
  {
   "cell_type": "code",
   "execution_count": null,
   "metadata": {
    "ExecuteTime": {
     "end_time": "2020-03-24T03:33:19.982708Z",
     "start_time": "2020-03-24T03:33:19.980706Z"
    }
   },
   "outputs": [],
   "source": [
    "# # pair-wise comparison\n",
    "# p = PrettierPlot(chart_scale=20)\n",
    "# p.pair_plot_custom(\n",
    "#     df=mlmachine_titanic_train.unpack_bayes_optim_summary(bayes_optim_summary, \"RandomForestClassifier\"),\n",
    "#     columns=[\"max_depth\", \"n_estimators\",\"min_samples_split\",\"iteration\",\"iter_loss\"],\n",
    "#     gradient_col=\"iteration\",\n",
    "# #     color=style.style_grey\n",
    "# )"
   ]
  },
  {
   "cell_type": "code",
   "execution_count": null,
   "metadata": {
    "ExecuteTime": {
     "end_time": "2020-03-24T03:33:20.006710Z",
     "start_time": "2020-03-24T03:33:19.983708Z"
    }
   },
   "outputs": [],
   "source": [
    "top_models = mlmachine_titanic_train.top_bayes_optim_models(bayes_optim_summary=bayes_optim_summary, num_models=1)\n",
    "top_models"
   ]
  },
  {
   "cell_type": "code",
   "execution_count": null,
   "metadata": {
    "ExecuteTime": {
     "end_time": "2020-03-24T03:33:20.022715Z",
     "start_time": "2020-03-24T03:33:20.007711Z"
    }
   },
   "outputs": [],
   "source": [
    "mlmachine_titanic_train.top_bayes_optim_models(\n",
    "    bayes_optim_summary=bayes_optim_summary,\n",
    "    num_models=1,\n",
    ")"
   ]
  },
  {
   "cell_type": "code",
   "execution_count": null,
   "metadata": {
    "ExecuteTime": {
     "end_time": "2020-03-24T03:33:20.030714Z",
     "start_time": "2020-03-24T03:33:20.023715Z"
    }
   },
   "outputs": [],
   "source": [
    "# estimator_class = 'LogisticRegression'; model_iter = 176\n",
    "estimator_class = 'XGBClassifier'; model_iter = 23\n",
    "# estimator_class = 'RandomForestClassifier'; model_iter = 151\n",
    "# estimator_class = 'KNeighborsClassifier'; model_iter = 466\n",
    "\n",
    "model = mlmachine_titanic_train.BayesOptimClassifierBuilder(\n",
    "    bayes_optim_summary=bayes_optim_summary,\n",
    "    estimator_class=estimator_class,\n",
    "    model_iter=model_iter\n",
    ")\n",
    "print(model.custom_model)"
   ]
  },
  {
   "cell_type": "code",
   "execution_count": null,
   "metadata": {
    "ExecuteTime": {
     "end_time": "2020-03-24T03:33:20.039715Z",
     "start_time": "2020-03-24T03:33:20.031715Z"
    }
   },
   "outputs": [],
   "source": [
    "model = mlmachine_titanic_train.BayesOptimClassifierBuilder(\n",
    "    bayes_optim_summary=bayes_optim_summary,\n",
    "    estimator_class=\"RandomForestClassifier\",\n",
    "    model_iter=46\n",
    ")\n",
    "print(model.custom_model)"
   ]
  },
  {
   "cell_type": "code",
   "execution_count": 18,
   "metadata": {
    "ExecuteTime": {
     "end_time": "2020-03-24T03:33:55.934760Z",
     "start_time": "2020-03-24T03:33:50.159880Z"
    }
   },
   "outputs": [
    {
     "name": "stdout",
     "output_type": "stream",
     "text": [
      "RandomForestClassifier, iter = 46 \n",
      "Training accuracy: 94.16%\n"
     ]
    }
   ],
   "source": [
    "# fit the model\n",
    "model.fit(mlmachine_titanic_train.data, mlmachine_titanic_train.target)\n",
    "\n",
    "# generate predictions\n",
    "y_pred_train = model.predict(mlmachine_titanic_train.data)\n",
    "\n",
    "# summarize results\n",
    "training_accuracy = sum(y_pred_train == mlmachine_titanic_train.target) / len(y_pred_train)\n",
    "print(\"RandomForestClassifier, iter = 46 \\nTraining accuracy: {:.2%}\".format(training_accuracy))"
   ]
  },
  {
   "cell_type": "code",
   "execution_count": null,
   "metadata": {},
   "outputs": [],
   "source": []
  }
 ],
 "metadata": {
  "kernelspec": {
   "display_name": "Python 3",
   "language": "python",
   "name": "python3"
  },
  "language_info": {
   "codemirror_mode": {
    "name": "ipython",
    "version": 3
   },
   "file_extension": ".py",
   "mimetype": "text/x-python",
   "name": "python",
   "nbconvert_exporter": "python",
   "pygments_lexer": "ipython3",
   "version": "3.7.0"
  },
  "toc": {
   "base_numbering": 1,
   "nav_menu": {},
   "number_sections": true,
   "sideBar": true,
   "skip_h1_title": false,
   "title_cell": "Table of Contents",
   "title_sidebar": "Contents",
   "toc_cell": false,
   "toc_position": {},
   "toc_section_display": true,
   "toc_window_display": false
  }
 },
 "nbformat": 4,
 "nbformat_minor": 4
}
